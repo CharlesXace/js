{
  "cells": [
    {
      "cell_type": "markdown",
      "metadata": {
        "id": "view-in-github",
        "colab_type": "text"
      },
      "source": [
        "<a href=\"https://colab.research.google.com/github/CharlesXace/js/blob/main/chapter_appendix-tools-for-deep-learning/jupyter.ipynb\" target=\"_parent\"><img src=\"https://colab.research.google.com/assets/colab-badge.svg\" alt=\"Open In Colab\"/></a>"
      ]
    },
    {
      "cell_type": "code",
      "source": [
        "import torch\n",
        "print(torch.__version__)"
      ],
      "metadata": {
        "id": "7GZ3TfbEbLvf"
      },
      "id": "7GZ3TfbEbLvf",
      "execution_count": null,
      "outputs": []
    },
    {
      "cell_type": "code",
      "source": [
        "if torch.cuda.is_available():\n",
        "    print(\"GPU is available\")\n",
        "    print(f\"Using GPU: {torch.cuda.get_device_name(0)}\")\n",
        "else:\n",
        "    print(\"GPU not available.Using CPU\")"
      ],
      "metadata": {
        "id": "Zji1WR8QbPCK"
      },
      "id": "Zji1WR8QbPCK",
      "execution_count": null,
      "outputs": []
    },
    {
      "cell_type": "markdown",
      "source": [
        "# Creating a Tensor\n"
      ],
      "metadata": {
        "id": "BMxmJiZkcYcm"
      },
      "id": "BMxmJiZkcYcm"
    },
    {
      "cell_type": "code",
      "source": [
        "#using empty\n",
        "a=torch.empty(2,3)\n",
        "print(a)"
      ],
      "metadata": {
        "id": "GKcUQugucjx4"
      },
      "id": "GKcUQugucjx4",
      "execution_count": null,
      "outputs": []
    },
    {
      "cell_type": "code",
      "source": [
        "#check type\n",
        "type(a)"
      ],
      "metadata": {
        "colab": {
          "base_uri": "https://localhost:8080/"
        },
        "id": "m7SwAJknc47o",
        "outputId": "f4efc771-cb5d-4064-d88e-8ea03875dea0"
      },
      "id": "m7SwAJknc47o",
      "execution_count": 8,
      "outputs": [
        {
          "output_type": "execute_result",
          "data": {
            "text/plain": [
              "torch.Tensor"
            ]
          },
          "metadata": {},
          "execution_count": 8
        }
      ]
    },
    {
      "cell_type": "code",
      "source": [
        "#using zeros\n",
        "b=torch.zeros(2,3)\n",
        "print(b)"
      ],
      "metadata": {
        "colab": {
          "base_uri": "https://localhost:8080/"
        },
        "id": "EdsHfvjMc8xX",
        "outputId": "288930c8-6bad-418f-f92f-e008946e10e8"
      },
      "id": "EdsHfvjMc8xX",
      "execution_count": 9,
      "outputs": [
        {
          "output_type": "stream",
          "name": "stdout",
          "text": [
            "tensor([[0., 0., 0.],\n",
            "        [0., 0., 0.]])\n"
          ]
        }
      ]
    },
    {
      "cell_type": "code",
      "source": [
        "#using ones\n",
        "torch.ones(2,3)"
      ],
      "metadata": {
        "colab": {
          "base_uri": "https://localhost:8080/"
        },
        "id": "Nsa8KGjVdXln",
        "outputId": "ded8f22d-74f5-42d8-d36a-6dd3e3b203fd"
      },
      "id": "Nsa8KGjVdXln",
      "execution_count": 10,
      "outputs": [
        {
          "output_type": "execute_result",
          "data": {
            "text/plain": [
              "tensor([[1., 1., 1.],\n",
              "        [1., 1., 1.]])"
            ]
          },
          "metadata": {},
          "execution_count": 10
        }
      ]
    },
    {
      "cell_type": "code",
      "source": [
        "#using rand (random between 0 to 1)\n",
        "torch.rand(2,3)"
      ],
      "metadata": {
        "colab": {
          "base_uri": "https://localhost:8080/"
        },
        "id": "J4b6g1cSdlgz",
        "outputId": "9b21ea91-777e-43e8-fef0-384cc1ee3f25"
      },
      "id": "J4b6g1cSdlgz",
      "execution_count": 11,
      "outputs": [
        {
          "output_type": "execute_result",
          "data": {
            "text/plain": [
              "tensor([[0.1723, 0.2704, 0.5821],\n",
              "        [0.8173, 0.0259, 0.4445]])"
            ]
          },
          "metadata": {},
          "execution_count": 11
        }
      ]
    },
    {
      "cell_type": "code",
      "source": [
        "#using manual seed (to not change value at evry rand call)\n",
        "torch.manual_seed(100)\n",
        "torch.rand(2,3)"
      ],
      "metadata": {
        "colab": {
          "base_uri": "https://localhost:8080/"
        },
        "id": "1R7yX9Vbdr3f",
        "outputId": "96dd096d-4c24-403b-fbdc-caa6a9ce070b"
      },
      "id": "1R7yX9Vbdr3f",
      "execution_count": 12,
      "outputs": [
        {
          "output_type": "execute_result",
          "data": {
            "text/plain": [
              "tensor([[0.1117, 0.8158, 0.2626],\n",
              "        [0.4839, 0.6765, 0.7539]])"
            ]
          },
          "metadata": {},
          "execution_count": 12
        }
      ]
    },
    {
      "cell_type": "code",
      "source": [
        "#using tensor\n",
        "torch.tensor([[1,2,3],[4,5,6]])"
      ],
      "metadata": {
        "colab": {
          "base_uri": "https://localhost:8080/"
        },
        "id": "PB8n1nFleDgV",
        "outputId": "cefae718-21b1-4606-a9bf-0ae132fe6720"
      },
      "id": "PB8n1nFleDgV",
      "execution_count": 13,
      "outputs": [
        {
          "output_type": "execute_result",
          "data": {
            "text/plain": [
              "tensor([[1, 2, 3],\n",
              "        [4, 5, 6]])"
            ]
          },
          "metadata": {},
          "execution_count": 13
        }
      ]
    },
    {
      "cell_type": "code",
      "source": [
        "# other ways\n",
        "\n",
        "# arange (range)\n",
        "print(\"using arange ->\", torch.arange(0,10))\n",
        "print(\"using arange ->\", torch.arange(0,10,2))\n",
        "\n",
        "\n",
        "# using linspace (linear space from 0 to 10 with 10 elements)\n",
        "print(\"using linspace ->\", torch.linspace(0,10,10))\n",
        "\n",
        "# using eye (identity matrix)\n",
        "print(\"using eye ->\", torch.eye(5))\n",
        "\n",
        "# using full (3x3 matrix with all elements 5)\n",
        "print(\"using full ->\", torch.full((3, 3), 5))"
      ],
      "metadata": {
        "colab": {
          "base_uri": "https://localhost:8080/"
        },
        "id": "ouHZcSyteQOy",
        "outputId": "1e881915-95cc-4280-daa9-9f1253a78a58"
      },
      "id": "ouHZcSyteQOy",
      "execution_count": 14,
      "outputs": [
        {
          "output_type": "stream",
          "name": "stdout",
          "text": [
            "using arange -> tensor([0, 1, 2, 3, 4, 5, 6, 7, 8, 9])\n",
            "using arange -> tensor([0, 2, 4, 6, 8])\n",
            "using linspace -> tensor([ 0.0000,  1.1111,  2.2222,  3.3333,  4.4444,  5.5556,  6.6667,  7.7778,\n",
            "         8.8889, 10.0000])\n",
            "using eye -> tensor([[1., 0., 0., 0., 0.],\n",
            "        [0., 1., 0., 0., 0.],\n",
            "        [0., 0., 1., 0., 0.],\n",
            "        [0., 0., 0., 1., 0.],\n",
            "        [0., 0., 0., 0., 1.]])\n",
            "using full -> tensor([[5, 5, 5],\n",
            "        [5, 5, 5],\n",
            "        [5, 5, 5]])\n"
          ]
        }
      ]
    },
    {
      "cell_type": "markdown",
      "source": [
        "# Tensor Shapes"
      ],
      "metadata": {
        "id": "5cci-WFnfonL"
      },
      "id": "5cci-WFnfonL"
    },
    {
      "cell_type": "code",
      "source": [
        "x=torch.tensor([[1,2,3],[4,5,6]])\n",
        "x"
      ],
      "metadata": {
        "colab": {
          "base_uri": "https://localhost:8080/"
        },
        "id": "ekxTVQkvfte2",
        "outputId": "99da7f90-9a34-40e6-c037-51fdb02f744d"
      },
      "id": "ekxTVQkvfte2",
      "execution_count": 15,
      "outputs": [
        {
          "output_type": "execute_result",
          "data": {
            "text/plain": [
              "tensor([[1, 2, 3],\n",
              "        [4, 5, 6]])"
            ]
          },
          "metadata": {},
          "execution_count": 15
        }
      ]
    },
    {
      "cell_type": "code",
      "source": [
        "x.shape"
      ],
      "metadata": {
        "colab": {
          "base_uri": "https://localhost:8080/"
        },
        "id": "WTvrafargMrL",
        "outputId": "decc555c-e827-4eb8-8a54-99167d4a3411"
      },
      "id": "WTvrafargMrL",
      "execution_count": 17,
      "outputs": [
        {
          "output_type": "execute_result",
          "data": {
            "text/plain": [
              "torch.Size([2, 3])"
            ]
          },
          "metadata": {},
          "execution_count": 17
        }
      ]
    },
    {
      "cell_type": "code",
      "source": [
        "#create a tensor with same size\n",
        "torch.empty_like(x)"
      ],
      "metadata": {
        "colab": {
          "base_uri": "https://localhost:8080/"
        },
        "id": "W9DqB_w8gcuf",
        "outputId": "37118c5b-594f-4a85-eb0f-5d9e452e4c1c"
      },
      "id": "W9DqB_w8gcuf",
      "execution_count": 18,
      "outputs": [
        {
          "output_type": "execute_result",
          "data": {
            "text/plain": [
              "tensor([[ 680608870739572833,         49157242880, 7306355942478653766],\n",
              "        [8214565720532602480,      85152021610498, 1452692354813686272]])"
            ]
          },
          "metadata": {},
          "execution_count": 18
        }
      ]
    },
    {
      "cell_type": "code",
      "source": [
        "#create ones or zeroes tensor of same size\n",
        "torch.zeros_like(x)"
      ],
      "metadata": {
        "colab": {
          "base_uri": "https://localhost:8080/"
        },
        "id": "QRd3yJgxgg5C",
        "outputId": "9432ee37-db11-4865-8346-fffb89872e87"
      },
      "id": "QRd3yJgxgg5C",
      "execution_count": 19,
      "outputs": [
        {
          "output_type": "execute_result",
          "data": {
            "text/plain": [
              "tensor([[0, 0, 0],\n",
              "        [0, 0, 0]])"
            ]
          },
          "metadata": {},
          "execution_count": 19
        }
      ]
    },
    {
      "cell_type": "code",
      "source": [
        "#create rand with mentioned datatype\n",
        "a=torch.rand_like(x, dtype=torch.float32)\n",
        "print(a)\n",
        "b=torch.rand_like(x, dtype=torch.float64)\n",
        "print(b)"
      ],
      "metadata": {
        "colab": {
          "base_uri": "https://localhost:8080/"
        },
        "id": "5HMw7JqNgr5c",
        "outputId": "55fdc0b8-8a96-40b1-c4e2-b660acbc5d6f"
      },
      "id": "5HMw7JqNgr5c",
      "execution_count": 32,
      "outputs": [
        {
          "output_type": "stream",
          "name": "stdout",
          "text": [
            "tensor([[0.6211, 0.5530, 0.6896],\n",
            "        [0.3687, 0.9053, 0.8356]])\n",
            "tensor([[0.4312, 0.5917, 0.3425],\n",
            "        [0.2202, 0.7030, 0.5629]], dtype=torch.float64)\n"
          ]
        }
      ]
    },
    {
      "cell_type": "markdown",
      "source": [
        "# Tensor Datatypes\n"
      ],
      "metadata": {
        "id": "UwBD-HEvg5Hv"
      },
      "id": "UwBD-HEvg5Hv"
    },
    {
      "cell_type": "code",
      "source": [
        "#find data type\n",
        "x.dtype"
      ],
      "metadata": {
        "colab": {
          "base_uri": "https://localhost:8080/"
        },
        "id": "syD81yVsg9wq",
        "outputId": "cef591fb-df28-4778-dd4c-9ad2484a9cf7"
      },
      "id": "syD81yVsg9wq",
      "execution_count": 20,
      "outputs": [
        {
          "output_type": "execute_result",
          "data": {
            "text/plain": [
              "torch.int64"
            ]
          },
          "metadata": {},
          "execution_count": 20
        }
      ]
    },
    {
      "cell_type": "code",
      "source": [
        "#assign datatype\n",
        "torch.tensor([1.0,2.0,3.0], dtype=torch.int32)"
      ],
      "metadata": {
        "colab": {
          "base_uri": "https://localhost:8080/"
        },
        "id": "exnQYfunhNtU",
        "outputId": "89bcb877-d153-4b3e-a8ee-e60993c4b0cf"
      },
      "id": "exnQYfunhNtU",
      "execution_count": 21,
      "outputs": [
        {
          "output_type": "execute_result",
          "data": {
            "text/plain": [
              "tensor([1, 2, 3], dtype=torch.int32)"
            ]
          },
          "metadata": {},
          "execution_count": 21
        }
      ]
    },
    {
      "cell_type": "code",
      "source": [
        "torch.tensor([1,2,3], dtype=torch.float64)"
      ],
      "metadata": {
        "colab": {
          "base_uri": "https://localhost:8080/"
        },
        "id": "bblwDqu2heRV",
        "outputId": "fb7ec4ab-5861-4c35-cfdc-8af2c0a74f87"
      },
      "id": "bblwDqu2heRV",
      "execution_count": 22,
      "outputs": [
        {
          "output_type": "execute_result",
          "data": {
            "text/plain": [
              "tensor([1., 2., 3.], dtype=torch.float64)"
            ]
          },
          "metadata": {},
          "execution_count": 22
        }
      ]
    },
    {
      "cell_type": "code",
      "source": [
        "#using to()\n",
        "x.to(torch.float64)"
      ],
      "metadata": {
        "colab": {
          "base_uri": "https://localhost:8080/"
        },
        "id": "NsS7GuV7hlaZ",
        "outputId": "12dbaa1b-0a58-4165-9325-9b89ac83f017"
      },
      "id": "NsS7GuV7hlaZ",
      "execution_count": 25,
      "outputs": [
        {
          "output_type": "execute_result",
          "data": {
            "text/plain": [
              "tensor([[1., 2., 3.],\n",
              "        [4., 5., 6.]], dtype=torch.float64)"
            ]
          },
          "metadata": {},
          "execution_count": 25
        }
      ]
    },
    {
      "cell_type": "markdown",
      "source": [
        "| **Data Type**             | **Dtype**         | **Description**                                                                                                                                                                |\n",
        "|---------------------------|-------------------|--------------------------------------------------------------------------------------------------------------------------------------------------------------------------------|\n",
        "| **32-bit Floating Point** | `torch.float32`   | Standard floating-point type used for most deep learning tasks. Provides a balance between precision and memory usage.                                                         |\n",
        "| **64-bit Floating Point** | `torch.float64`   | Double-precision floating point. Useful for high-precision numerical tasks but uses more memory.                                                                               |\n",
        "| **16-bit Floating Point** | `torch.float16`   | Half-precision floating point. Commonly used in mixed-precision training to reduce memory and computational overhead on modern GPUs.                                            |\n",
        "| **BFloat16**              | `torch.bfloat16`  | Brain floating-point format with reduced precision compared to `float16`. Used in mixed-precision training, especially on TPUs.                                                |\n",
        "| **8-bit Floating Point**  | `torch.float8`    | Ultra-low-precision floating point. Used for experimental applications and extreme memory-constrained environments (less common).                                               |\n",
        "| **8-bit Integer**         | `torch.int8`      | 8-bit signed integer. Used for quantized models to save memory and computation in inference.                                                                                   |\n",
        "| **16-bit Integer**        | `torch.int16`     | 16-bit signed integer. Useful for special numerical tasks requiring intermediate precision.                                                                                    |\n",
        "| **32-bit Integer**        | `torch.int32`     | Standard signed integer type. Commonly used for indexing and general-purpose numerical tasks.                                                                                  |\n",
        "| **64-bit Integer**        | `torch.int64`     | Long integer type. Often used for large indexing arrays or for tasks involving large numbers.                                                                                  |\n",
        "| **8-bit Unsigned Integer**| `torch.uint8`     | 8-bit unsigned integer. Commonly used for image data (e.g., pixel values between 0 and 255).                                                                                    |\n",
        "| **Boolean**               | `torch.bool`      | Boolean type, stores `True` or `False` values. Often used for masks in logical operations.                                                                                      |\n",
        "| **Complex 64**            | `torch.complex64` | Complex number type with 32-bit real and 32-bit imaginary parts. Used for scientific and signal processing tasks.                                                               |\n",
        "| **Complex 128**           | `torch.complex128`| Complex number type with 64-bit real and 64-bit imaginary parts. Offers higher precision but uses more memory.                                                                 |\n",
        "| **Quantized Integer**     | `torch.qint8`     | Quantized signed 8-bit integer. Used in quantized models for efficient inference.                                                                                              |\n",
        "| **Quantized Unsigned Integer** | `torch.quint8` | Quantized unsigned 8-bit integer. Often used for quantized tensors in image-related tasks.                                                                                     |\n"
      ],
      "metadata": {
        "id": "dLm25jhknmuQ"
      },
      "id": "dLm25jhknmuQ"
    },
    {
      "cell_type": "markdown",
      "source": [
        "# Mathematical Operations"
      ],
      "metadata": {
        "id": "GCCV69MoiyhW"
      },
      "id": "GCCV69MoiyhW"
    },
    {
      "cell_type": "markdown",
      "source": [
        "1. Scalar Operation"
      ],
      "metadata": {
        "id": "UF1BBILvi9SS"
      },
      "id": "UF1BBILvi9SS"
    },
    {
      "cell_type": "code",
      "source": [
        "x=torch.rand(2,3)\n",
        "x"
      ],
      "metadata": {
        "colab": {
          "base_uri": "https://localhost:8080/"
        },
        "id": "B5KoVhX9i17l",
        "outputId": "0afcac7e-8620-43e4-c25d-9c38f8ee366a"
      },
      "id": "B5KoVhX9i17l",
      "execution_count": 33,
      "outputs": [
        {
          "output_type": "execute_result",
          "data": {
            "text/plain": [
              "tensor([[0.1157, 0.6574, 0.3451],\n",
              "        [0.0453, 0.9798, 0.5548]])"
            ]
          },
          "metadata": {},
          "execution_count": 33
        }
      ]
    },
    {
      "cell_type": "code",
      "source": [
        "# addition\n",
        "x + 2\n",
        "# substraction\n",
        "x - 2\n",
        "# multiplication\n",
        "x * 3\n",
        "# division\n",
        "x / 3\n",
        "# int division (//)\n",
        "(x * 100)//3\n",
        "# mod\n",
        "((x * 100)//3)%2\n",
        "# power\n",
        "x**2"
      ],
      "metadata": {
        "colab": {
          "base_uri": "https://localhost:8080/"
        },
        "id": "taJ6YVfMjF5J",
        "outputId": "1847473a-04f7-4a8a-ec1a-0f25d3c6df45"
      },
      "id": "taJ6YVfMjF5J",
      "execution_count": 34,
      "outputs": [
        {
          "output_type": "execute_result",
          "data": {
            "text/plain": [
              "tensor([[2.1157, 2.6574, 2.3451],\n",
              "        [2.0453, 2.9798, 2.5548]])"
            ]
          },
          "metadata": {},
          "execution_count": 34
        }
      ]
    },
    {
      "cell_type": "markdown",
      "source": [
        "2. Element Wise Operation"
      ],
      "metadata": {
        "id": "bDdTbSzvkGl7"
      },
      "id": "bDdTbSzvkGl7"
    },
    {
      "cell_type": "code",
      "source": [
        "a = torch.rand(2,3)\n",
        "b = torch.rand(2,3)\n",
        "\n",
        "print(a)\n",
        "print(b)"
      ],
      "metadata": {
        "id": "QPZGIIjVjvjg",
        "outputId": "6b7c3a16-3b9b-4eda-b084-25ed5d9bd539",
        "colab": {
          "base_uri": "https://localhost:8080/"
        }
      },
      "id": "QPZGIIjVjvjg",
      "execution_count": 36,
      "outputs": [
        {
          "output_type": "stream",
          "name": "stdout",
          "text": [
            "tensor([[0.6868, 0.4920, 0.0748],\n",
            "        [0.9605, 0.3271, 0.0103]])\n",
            "tensor([[0.9516, 0.2855, 0.2324],\n",
            "        [0.9141, 0.7668, 0.1659]])\n"
          ]
        }
      ]
    },
    {
      "cell_type": "code",
      "source": [
        "# add\n",
        "a + b\n",
        "# sub\n",
        "a - b\n",
        "# multiply\n",
        "a * b\n",
        "# division\n",
        "a / b\n",
        "# power\n",
        "a ** b\n",
        "# mod\n",
        "a % b"
      ],
      "metadata": {
        "id": "3roEA-qDkjn5",
        "outputId": "cd6adc32-6378-4a7a-8887-e16146218a3b",
        "colab": {
          "base_uri": "https://localhost:8080/"
        }
      },
      "id": "3roEA-qDkjn5",
      "execution_count": 37,
      "outputs": [
        {
          "output_type": "execute_result",
          "data": {
            "text/plain": [
              "tensor([[0.6868, 0.2065, 0.0748],\n",
              "        [0.0464, 0.3271, 0.0103]])"
            ]
          },
          "metadata": {},
          "execution_count": 37
        }
      ]
    },
    {
      "cell_type": "code",
      "source": [
        "c = torch.tensor([1, -2, 3, -4])"
      ],
      "metadata": {
        "id": "x0DBqCQ1kmPJ"
      },
      "id": "x0DBqCQ1kmPJ",
      "execution_count": 38,
      "outputs": []
    },
    {
      "cell_type": "code",
      "source": [
        "# abs (absolute value)\n",
        "torch.abs(c)\n",
        "# neg\n",
        "torch.neg(c)"
      ],
      "metadata": {
        "id": "lafMseIdkuEQ",
        "outputId": "b5a6105e-da84-4dc7-b07c-586f1fad3a60",
        "colab": {
          "base_uri": "https://localhost:8080/"
        }
      },
      "id": "lafMseIdkuEQ",
      "execution_count": 41,
      "outputs": [
        {
          "output_type": "execute_result",
          "data": {
            "text/plain": [
              "tensor([-1,  2, -3,  4])"
            ]
          },
          "metadata": {},
          "execution_count": 41
        }
      ]
    },
    {
      "cell_type": "code",
      "source": [
        "d=torch.tensor([1.9,2.3,3.7,4.4])\n",
        "#round\n",
        "#ceil\n",
        "#floor"
      ],
      "metadata": {
        "id": "tj_8f1gblEke"
      },
      "id": "tj_8f1gblEke",
      "execution_count": 42,
      "outputs": []
    },
    {
      "cell_type": "code",
      "source": [
        "#clamp (clamp in range)\n",
        "torch.clamp(d, min=2, max=3)"
      ],
      "metadata": {
        "id": "njwpaXKhlZv_",
        "outputId": "04742baa-807e-4c08-8b75-cb1d137e6778",
        "colab": {
          "base_uri": "https://localhost:8080/"
        }
      },
      "id": "njwpaXKhlZv_",
      "execution_count": 43,
      "outputs": [
        {
          "output_type": "execute_result",
          "data": {
            "text/plain": [
              "tensor([2.0000, 2.3000, 3.0000, 3.0000])"
            ]
          },
          "metadata": {},
          "execution_count": 43
        }
      ]
    },
    {
      "cell_type": "markdown",
      "source": [
        "3. Reduction Operation"
      ],
      "metadata": {
        "id": "k8wbPJ3Ul8Zq"
      },
      "id": "k8wbPJ3Ul8Zq"
    },
    {
      "cell_type": "code",
      "source": [
        "e = torch.randint(size=(2,3), low=0, high=10, dtype=torch.float32)\n",
        "e"
      ],
      "metadata": {
        "id": "iNmbOBezl61k",
        "outputId": "c58dc582-6eff-4fe9-9f8d-34789fef1657",
        "colab": {
          "base_uri": "https://localhost:8080/"
        }
      },
      "id": "iNmbOBezl61k",
      "execution_count": 44,
      "outputs": [
        {
          "output_type": "execute_result",
          "data": {
            "text/plain": [
              "tensor([[1., 5., 4.],\n",
              "        [4., 1., 1.]])"
            ]
          },
          "metadata": {},
          "execution_count": 44
        }
      ]
    },
    {
      "cell_type": "code",
      "source": [
        "# sum\n",
        "torch.sum(e)\n",
        "# sum along columns\n",
        "torch.sum(e, dim=0)\n",
        "# sum along rows\n",
        "torch.sum(e, dim=1)"
      ],
      "metadata": {
        "id": "e5yIqZJ7mG3t",
        "outputId": "c4f2a360-2aec-47e9-fd7a-ba1d6e0ed176",
        "colab": {
          "base_uri": "https://localhost:8080/"
        }
      },
      "id": "e5yIqZJ7mG3t",
      "execution_count": 45,
      "outputs": [
        {
          "output_type": "execute_result",
          "data": {
            "text/plain": [
              "tensor([10.,  6.])"
            ]
          },
          "metadata": {},
          "execution_count": 45
        }
      ]
    },
    {
      "cell_type": "code",
      "source": [
        "# mean\n",
        "torch.mean(e)\n",
        "# mean along col\n",
        "torch.mean(e, dim=0)"
      ],
      "metadata": {
        "id": "9_e7Da4cmroH",
        "outputId": "f0491283-7472-4abc-87c4-e44c77a28777",
        "colab": {
          "base_uri": "https://localhost:8080/"
        }
      },
      "id": "9_e7Da4cmroH",
      "execution_count": 46,
      "outputs": [
        {
          "output_type": "execute_result",
          "data": {
            "text/plain": [
              "tensor([2.5000, 3.0000, 2.5000])"
            ]
          },
          "metadata": {},
          "execution_count": 46
        }
      ]
    },
    {
      "cell_type": "code",
      "source": [
        "# median\n",
        "torch.median(e)"
      ],
      "metadata": {
        "id": "cKFz3tABmwjJ",
        "outputId": "ca125b84-bcd9-49f1-c26a-43481940bd85",
        "colab": {
          "base_uri": "https://localhost:8080/"
        }
      },
      "id": "cKFz3tABmwjJ",
      "execution_count": 47,
      "outputs": [
        {
          "output_type": "execute_result",
          "data": {
            "text/plain": [
              "tensor(1.)"
            ]
          },
          "metadata": {},
          "execution_count": 47
        }
      ]
    },
    {
      "cell_type": "code",
      "source": [
        "# max and min\n",
        "torch.max(e)\n",
        "torch.min(e)"
      ],
      "metadata": {
        "id": "WEjKY6wPnAqd",
        "outputId": "c1a2caab-c1b8-4148-a7ea-ed3f32ebc2f3",
        "colab": {
          "base_uri": "https://localhost:8080/"
        }
      },
      "id": "WEjKY6wPnAqd",
      "execution_count": 48,
      "outputs": [
        {
          "output_type": "execute_result",
          "data": {
            "text/plain": [
              "tensor(1.)"
            ]
          },
          "metadata": {},
          "execution_count": 48
        }
      ]
    },
    {
      "cell_type": "code",
      "source": [
        "# product\n",
        "torch.prod(e)"
      ],
      "metadata": {
        "id": "e6Li8cgxnFvB",
        "outputId": "b83d1ae5-5da5-48b2-a18d-de6e229cced6",
        "colab": {
          "base_uri": "https://localhost:8080/"
        }
      },
      "id": "e6Li8cgxnFvB",
      "execution_count": 49,
      "outputs": [
        {
          "output_type": "execute_result",
          "data": {
            "text/plain": [
              "tensor(80.)"
            ]
          },
          "metadata": {},
          "execution_count": 49
        }
      ]
    },
    {
      "cell_type": "code",
      "source": [
        "# standard deviation\n",
        "torch.std(e)\n",
        "# variance\n",
        "torch.var(e)"
      ],
      "metadata": {
        "id": "dO0XJqLXnIG1",
        "outputId": "057616c7-ab6b-420c-99a8-365ab920b63e",
        "colab": {
          "base_uri": "https://localhost:8080/"
        }
      },
      "id": "dO0XJqLXnIG1",
      "execution_count": 51,
      "outputs": [
        {
          "output_type": "execute_result",
          "data": {
            "text/plain": [
              "tensor(3.4667)"
            ]
          },
          "metadata": {},
          "execution_count": 51
        }
      ]
    },
    {
      "cell_type": "code",
      "source": [
        "# argmax (position of largest element)\n",
        "torch.argmax(e)\n",
        "# argmin\n",
        "torch.argmin(e)"
      ],
      "metadata": {
        "id": "Pdr2mNuxnMcG",
        "outputId": "8976cfd4-1667-4d64-d324-63401726a620",
        "colab": {
          "base_uri": "https://localhost:8080/"
        }
      },
      "id": "Pdr2mNuxnMcG",
      "execution_count": 53,
      "outputs": [
        {
          "output_type": "execute_result",
          "data": {
            "text/plain": [
              "tensor(0)"
            ]
          },
          "metadata": {},
          "execution_count": 53
        }
      ]
    },
    {
      "cell_type": "markdown",
      "source": [
        "4. Matrix Operations"
      ],
      "metadata": {
        "id": "4RinPhlZnkZe"
      },
      "id": "4RinPhlZnkZe"
    },
    {
      "cell_type": "code",
      "source": [
        "f = torch.randint(size=(2,3), low=0, high=10)\n",
        "g = torch.randint(size=(3,2), low=0, high=10)\n",
        "\n",
        "print(f)\n",
        "print(g)"
      ],
      "metadata": {
        "id": "_rVYDK1unZeZ",
        "outputId": "6db682cc-3a83-4a38-8859-335566c1b7c9",
        "colab": {
          "base_uri": "https://localhost:8080/"
        }
      },
      "id": "_rVYDK1unZeZ",
      "execution_count": 54,
      "outputs": [
        {
          "output_type": "stream",
          "name": "stdout",
          "text": [
            "tensor([[2, 4, 7],\n",
            "        [2, 5, 6]])\n",
            "tensor([[1, 4],\n",
            "        [5, 6],\n",
            "        [9, 2]])\n"
          ]
        }
      ]
    },
    {
      "cell_type": "code",
      "source": [
        "# matrix multiplcation\n",
        "torch.matmul(f, g)"
      ],
      "metadata": {
        "id": "p-N25tjZoFcd",
        "outputId": "bb96db6d-e994-4fc8-c656-6e72c425b4cf",
        "colab": {
          "base_uri": "https://localhost:8080/"
        }
      },
      "id": "p-N25tjZoFcd",
      "execution_count": 55,
      "outputs": [
        {
          "output_type": "execute_result",
          "data": {
            "text/plain": [
              "tensor([[85, 46],\n",
              "        [81, 50]])"
            ]
          },
          "metadata": {},
          "execution_count": 55
        }
      ]
    },
    {
      "cell_type": "code",
      "source": [
        "vector1 = torch.tensor([1, 2])\n",
        "vector2 = torch.tensor([3, 4])\n",
        "\n",
        "# dot product\n",
        "torch.dot(vector1, vector2)\n",
        "# transpose (which matrix, konse dimension ko kisse swap)\n",
        "torch.transpose(f, 0, 1)"
      ],
      "metadata": {
        "id": "A-sdawOuoHYP",
        "outputId": "10f2cd83-a186-4ae7-de45-ef37d80b8f8c",
        "colab": {
          "base_uri": "https://localhost:8080/"
        }
      },
      "id": "A-sdawOuoHYP",
      "execution_count": 57,
      "outputs": [
        {
          "output_type": "execute_result",
          "data": {
            "text/plain": [
              "tensor([[2, 2],\n",
              "        [4, 5],\n",
              "        [7, 6]])"
            ]
          },
          "metadata": {},
          "execution_count": 57
        }
      ]
    },
    {
      "cell_type": "code",
      "source": [
        "h = torch.randint(size=(3,3), low=0, high=10, dtype=torch.float32)\n",
        "h"
      ],
      "metadata": {
        "id": "mw6nFC-OoJf2",
        "outputId": "b229de09-d109-42bb-d625-c1c6b8a128a7",
        "colab": {
          "base_uri": "https://localhost:8080/"
        }
      },
      "id": "mw6nFC-OoJf2",
      "execution_count": 58,
      "outputs": [
        {
          "output_type": "execute_result",
          "data": {
            "text/plain": [
              "tensor([[3., 1., 0.],\n",
              "        [2., 1., 2.],\n",
              "        [7., 9., 2.]])"
            ]
          },
          "metadata": {},
          "execution_count": 58
        }
      ]
    },
    {
      "cell_type": "code",
      "source": [
        "# determinant\n",
        "torch.det(h)"
      ],
      "metadata": {
        "id": "LEc9cQ1woT7A",
        "outputId": "23839cc0-e63d-40f3-af4a-09eeb44ab107",
        "colab": {
          "base_uri": "https://localhost:8080/"
        }
      },
      "id": "LEc9cQ1woT7A",
      "execution_count": 59,
      "outputs": [
        {
          "output_type": "execute_result",
          "data": {
            "text/plain": [
              "tensor(-38.)"
            ]
          },
          "metadata": {},
          "execution_count": 59
        }
      ]
    },
    {
      "cell_type": "code",
      "source": [
        "# inverse\n",
        "torch.inverse(h)"
      ],
      "metadata": {
        "id": "J4r0iVr3oVkg",
        "outputId": "0fcd2be7-2709-481d-faeb-5ea907c13d97",
        "colab": {
          "base_uri": "https://localhost:8080/"
        }
      },
      "id": "J4r0iVr3oVkg",
      "execution_count": 60,
      "outputs": [
        {
          "output_type": "execute_result",
          "data": {
            "text/plain": [
              "tensor([[ 0.4211,  0.0526, -0.0526],\n",
              "        [-0.2632, -0.1579,  0.1579],\n",
              "        [-0.2895,  0.5263, -0.0263]])"
            ]
          },
          "metadata": {},
          "execution_count": 60
        }
      ]
    },
    {
      "cell_type": "markdown",
      "source": [
        "5. Comparison Operations"
      ],
      "metadata": {
        "id": "sk156lzKoY7H"
      },
      "id": "sk156lzKoY7H"
    },
    {
      "cell_type": "code",
      "source": [
        "i = torch.randint(size=(2,3), low=0, high=10)\n",
        "j = torch.randint(size=(2,3), low=0, high=10)\n",
        "\n",
        "print(i)\n",
        "print(j)"
      ],
      "metadata": {
        "id": "-oDJOOiloWx_",
        "outputId": "f6c27f8f-2196-4144-c9d9-6873aed42adc",
        "colab": {
          "base_uri": "https://localhost:8080/"
        }
      },
      "id": "-oDJOOiloWx_",
      "execution_count": 61,
      "outputs": [
        {
          "output_type": "stream",
          "name": "stdout",
          "text": [
            "tensor([[4, 6, 6],\n",
            "        [8, 4, 9]])\n",
            "tensor([[0, 7, 9],\n",
            "        [2, 7, 0]])\n"
          ]
        }
      ]
    },
    {
      "cell_type": "code",
      "source": [
        "# greater than\n",
        "i > j\n",
        "# less than\n",
        "i < j\n",
        "# equal to\n",
        "i == j\n",
        "# not equal to\n",
        "i != j\n",
        "# greater than equal to\n",
        "\n",
        "# less than equal to"
      ],
      "metadata": {
        "id": "FHxuC5Djopac",
        "outputId": "bf2aa24d-61f8-4fbf-9775-6ed1311c276e",
        "colab": {
          "base_uri": "https://localhost:8080/"
        }
      },
      "id": "FHxuC5Djopac",
      "execution_count": 62,
      "outputs": [
        {
          "output_type": "execute_result",
          "data": {
            "text/plain": [
              "tensor([[True, True, True],\n",
              "        [True, True, True]])"
            ]
          },
          "metadata": {},
          "execution_count": 62
        }
      ]
    },
    {
      "cell_type": "markdown",
      "source": [
        "6. Special Functions"
      ],
      "metadata": {
        "id": "HHwTqSYhor72"
      },
      "id": "HHwTqSYhor72"
    },
    {
      "cell_type": "code",
      "source": [
        "k=torch.randint(size=(2,3), low=0, high=10 , dtype=torch.float32)\n",
        "k"
      ],
      "metadata": {
        "id": "R3Yw87uHoq4C",
        "outputId": "09bc610b-cd6d-4fb4-d085-89907b22ac8c",
        "colab": {
          "base_uri": "https://localhost:8080/"
        }
      },
      "id": "R3Yw87uHoq4C",
      "execution_count": 73,
      "outputs": [
        {
          "output_type": "execute_result",
          "data": {
            "text/plain": [
              "tensor([[6., 7., 8.],\n",
              "        [1., 2., 3.]])"
            ]
          },
          "metadata": {},
          "execution_count": 73
        }
      ]
    },
    {
      "cell_type": "code",
      "source": [
        "#log\n",
        "torch.log(k)"
      ],
      "metadata": {
        "id": "8UwEm3MBo9Rp",
        "outputId": "f7a6b26f-e15a-4057-bad1-d4c81abb4109",
        "colab": {
          "base_uri": "https://localhost:8080/"
        }
      },
      "id": "8UwEm3MBo9Rp",
      "execution_count": 74,
      "outputs": [
        {
          "output_type": "execute_result",
          "data": {
            "text/plain": [
              "tensor([[1.7918, 1.9459, 2.0794],\n",
              "        [0.0000, 0.6931, 1.0986]])"
            ]
          },
          "metadata": {},
          "execution_count": 74
        }
      ]
    },
    {
      "cell_type": "code",
      "source": [
        "# exp\n",
        "torch.exp(k)"
      ],
      "metadata": {
        "id": "ALJCei06pH1J",
        "outputId": "cfa5ec4f-f8af-4a1b-be15-2818cfafb06d",
        "colab": {
          "base_uri": "https://localhost:8080/"
        }
      },
      "id": "ALJCei06pH1J",
      "execution_count": 75,
      "outputs": [
        {
          "output_type": "execute_result",
          "data": {
            "text/plain": [
              "tensor([[4.0343e+02, 1.0966e+03, 2.9810e+03],\n",
              "        [2.7183e+00, 7.3891e+00, 2.0086e+01]])"
            ]
          },
          "metadata": {},
          "execution_count": 75
        }
      ]
    },
    {
      "cell_type": "code",
      "source": [
        "# sqrt\n",
        "torch.sqrt(k)"
      ],
      "metadata": {
        "id": "6WQ71HQRp55v",
        "outputId": "dc0a0a0d-5ac5-4201-afc8-48c409fd7039",
        "colab": {
          "base_uri": "https://localhost:8080/"
        }
      },
      "id": "6WQ71HQRp55v",
      "execution_count": 76,
      "outputs": [
        {
          "output_type": "execute_result",
          "data": {
            "text/plain": [
              "tensor([[2.4495, 2.6458, 2.8284],\n",
              "        [1.0000, 1.4142, 1.7321]])"
            ]
          },
          "metadata": {},
          "execution_count": 76
        }
      ]
    },
    {
      "cell_type": "code",
      "source": [
        "# sigmoid\n",
        "torch.sigmoid(k)"
      ],
      "metadata": {
        "id": "Z4xLuEocp75P",
        "outputId": "40867dbd-83b0-40a7-b807-e33691dd79ed",
        "colab": {
          "base_uri": "https://localhost:8080/"
        }
      },
      "id": "Z4xLuEocp75P",
      "execution_count": 77,
      "outputs": [
        {
          "output_type": "execute_result",
          "data": {
            "text/plain": [
              "tensor([[0.9975, 0.9991, 0.9997],\n",
              "        [0.7311, 0.8808, 0.9526]])"
            ]
          },
          "metadata": {},
          "execution_count": 77
        }
      ]
    },
    {
      "cell_type": "code",
      "source": [
        "#softmax\n",
        "#relu"
      ],
      "metadata": {
        "id": "lc8OUn2Zp9co"
      },
      "id": "lc8OUn2Zp9co",
      "execution_count": 78,
      "outputs": []
    },
    {
      "cell_type": "markdown",
      "source": [
        "# Inplace Operations"
      ],
      "metadata": {
        "id": "Pn4bKd84qEcS"
      },
      "id": "Pn4bKd84qEcS"
    },
    {
      "cell_type": "code",
      "source": [
        "m = torch.rand(2,3)\n",
        "n = torch.rand(2,3)\n",
        "\n",
        "print(m)\n",
        "print(n)\n",
        "\n",
        "# '_' represents inplace operation for permanent change in that tensor rather than occupying more space as new tensor"
      ],
      "metadata": {
        "id": "I--gTNazp_zh",
        "outputId": "3573eca4-e27e-466a-e596-3dd0ae9d9fd8",
        "colab": {
          "base_uri": "https://localhost:8080/"
        }
      },
      "id": "I--gTNazp_zh",
      "execution_count": 85,
      "outputs": [
        {
          "output_type": "stream",
          "name": "stdout",
          "text": [
            "tensor([[0.7819, 0.3134, 0.2983],\n",
            "        [0.3436, 0.2028, 0.9792]])\n",
            "tensor([[0.4947, 0.3617, 0.9687],\n",
            "        [0.0359, 0.3041, 0.9867]])\n"
          ]
        }
      ]
    },
    {
      "cell_type": "code",
      "source": [
        "m.add_(n)"
      ],
      "metadata": {
        "id": "W5eqo0vsqNeb",
        "outputId": "c1062710-3b91-42ab-d2db-abc2b0fc9c30",
        "colab": {
          "base_uri": "https://localhost:8080/"
        }
      },
      "id": "W5eqo0vsqNeb",
      "execution_count": 86,
      "outputs": [
        {
          "output_type": "execute_result",
          "data": {
            "text/plain": [
              "tensor([[1.2766, 0.6751, 1.2670],\n",
              "        [0.3795, 0.5069, 1.9659]])"
            ]
          },
          "metadata": {},
          "execution_count": 86
        }
      ]
    },
    {
      "cell_type": "code",
      "source": [
        "m"
      ],
      "metadata": {
        "id": "1iMebyTFrDXf",
        "outputId": "10f6fcba-a958-4d77-fd73-11063ac3d9ef",
        "colab": {
          "base_uri": "https://localhost:8080/"
        }
      },
      "id": "1iMebyTFrDXf",
      "execution_count": 87,
      "outputs": [
        {
          "output_type": "execute_result",
          "data": {
            "text/plain": [
              "tensor([[1.2766, 0.6751, 1.2670],\n",
              "        [0.3795, 0.5069, 1.9659]])"
            ]
          },
          "metadata": {},
          "execution_count": 87
        }
      ]
    },
    {
      "cell_type": "code",
      "source": [
        "n"
      ],
      "metadata": {
        "id": "QpQi4C4XrERq",
        "outputId": "46fe0040-9d1c-4dae-f525-a756d1f3eb32",
        "colab": {
          "base_uri": "https://localhost:8080/"
        }
      },
      "id": "QpQi4C4XrERq",
      "execution_count": 88,
      "outputs": [
        {
          "output_type": "execute_result",
          "data": {
            "text/plain": [
              "tensor([[0.4947, 0.3617, 0.9687],\n",
              "        [0.0359, 0.3041, 0.9867]])"
            ]
          },
          "metadata": {},
          "execution_count": 88
        }
      ]
    },
    {
      "cell_type": "code",
      "source": [
        "n.relu_()"
      ],
      "metadata": {
        "id": "QY9yS9bPrEt8",
        "outputId": "a097c33b-76f7-4948-a6be-931a31fe8d46",
        "colab": {
          "base_uri": "https://localhost:8080/"
        }
      },
      "id": "QY9yS9bPrEt8",
      "execution_count": 89,
      "outputs": [
        {
          "output_type": "execute_result",
          "data": {
            "text/plain": [
              "tensor([[0.4947, 0.3617, 0.9687],\n",
              "        [0.0359, 0.3041, 0.9867]])"
            ]
          },
          "metadata": {},
          "execution_count": 89
        }
      ]
    },
    {
      "cell_type": "markdown",
      "source": [
        "# Copying a Tensor"
      ],
      "metadata": {
        "id": "4vnPPiVlrX70"
      },
      "id": "4vnPPiVlrX70"
    },
    {
      "cell_type": "code",
      "source": [
        "a = torch.rand(2,3)\n",
        "a"
      ],
      "metadata": {
        "id": "rDnskKeKrHUj",
        "outputId": "f2e251ff-ad10-455a-967e-59879ef9ef6d",
        "colab": {
          "base_uri": "https://localhost:8080/"
        }
      },
      "id": "rDnskKeKrHUj",
      "execution_count": 90,
      "outputs": [
        {
          "output_type": "execute_result",
          "data": {
            "text/plain": [
              "tensor([[0.1290, 0.6887, 0.1637],\n",
              "        [0.0899, 0.3139, 0.1219]])"
            ]
          },
          "metadata": {},
          "execution_count": 90
        }
      ]
    },
    {
      "cell_type": "code",
      "source": [
        "#problem with this is that any changes in a will apply in b also that we do not need\n",
        "b=a"
      ],
      "metadata": {
        "id": "6JeJr7rkriMY"
      },
      "id": "6JeJr7rkriMY",
      "execution_count": 93,
      "outputs": []
    },
    {
      "cell_type": "code",
      "source": [
        "b"
      ],
      "metadata": {
        "id": "2Nmcpth_r6J3",
        "outputId": "f53ca11a-6358-421e-a2f1-9c0efce4037d",
        "colab": {
          "base_uri": "https://localhost:8080/"
        }
      },
      "id": "2Nmcpth_r6J3",
      "execution_count": 94,
      "outputs": [
        {
          "output_type": "execute_result",
          "data": {
            "text/plain": [
              "tensor([[0.1290, 0.6887, 0.1637],\n",
              "        [0.0899, 0.3139, 0.1219]])"
            ]
          },
          "metadata": {},
          "execution_count": 94
        }
      ]
    },
    {
      "cell_type": "code",
      "source": [
        "a[0][0]=0\n",
        "a"
      ],
      "metadata": {
        "id": "8CCX1A_Yr652",
        "outputId": "c7400d80-d6a3-4b39-dab3-0b577c9e28e6",
        "colab": {
          "base_uri": "https://localhost:8080/"
        }
      },
      "id": "8CCX1A_Yr652",
      "execution_count": 95,
      "outputs": [
        {
          "output_type": "execute_result",
          "data": {
            "text/plain": [
              "tensor([[0.0000, 0.6887, 0.1637],\n",
              "        [0.0899, 0.3139, 0.1219]])"
            ]
          },
          "metadata": {},
          "execution_count": 95
        }
      ]
    },
    {
      "cell_type": "code",
      "source": [
        "b"
      ],
      "metadata": {
        "id": "Bu1qMnZDsILL",
        "outputId": "06b32f24-872a-491c-ae72-2237adeafba0",
        "colab": {
          "base_uri": "https://localhost:8080/"
        }
      },
      "id": "Bu1qMnZDsILL",
      "execution_count": 96,
      "outputs": [
        {
          "output_type": "execute_result",
          "data": {
            "text/plain": [
              "tensor([[0.0000, 0.6887, 0.1637],\n",
              "        [0.0899, 0.3139, 0.1219]])"
            ]
          },
          "metadata": {},
          "execution_count": 96
        }
      ]
    },
    {
      "cell_type": "code",
      "source": [
        "id(a)"
      ],
      "metadata": {
        "id": "GuVsY9ZnsI19",
        "outputId": "dee47579-bfb8-4b21-a39f-a25e12d285f5",
        "colab": {
          "base_uri": "https://localhost:8080/"
        }
      },
      "id": "GuVsY9ZnsI19",
      "execution_count": 97,
      "outputs": [
        {
          "output_type": "execute_result",
          "data": {
            "text/plain": [
              "132250561149456"
            ]
          },
          "metadata": {},
          "execution_count": 97
        }
      ]
    },
    {
      "cell_type": "code",
      "source": [
        "id(b)"
      ],
      "metadata": {
        "id": "4MLWHSTqsNfJ",
        "outputId": "aa7cdd8e-9792-4291-f261-972f867cdbff",
        "colab": {
          "base_uri": "https://localhost:8080/"
        }
      },
      "id": "4MLWHSTqsNfJ",
      "execution_count": 98,
      "outputs": [
        {
          "output_type": "execute_result",
          "data": {
            "text/plain": [
              "132250561149456"
            ]
          },
          "metadata": {},
          "execution_count": 98
        }
      ]
    },
    {
      "cell_type": "code",
      "source": [
        "b=a.clone"
      ],
      "metadata": {
        "id": "jnfyUoHesOM4"
      },
      "id": "jnfyUoHesOM4",
      "execution_count": 99,
      "outputs": []
    },
    {
      "cell_type": "code",
      "source": [
        "id(a)"
      ],
      "metadata": {
        "id": "IsKloQkus0lA",
        "outputId": "8e65ac4d-b015-4884-b763-ba6a4e1b50af",
        "colab": {
          "base_uri": "https://localhost:8080/"
        }
      },
      "id": "IsKloQkus0lA",
      "execution_count": 100,
      "outputs": [
        {
          "output_type": "execute_result",
          "data": {
            "text/plain": [
              "132250561149456"
            ]
          },
          "metadata": {},
          "execution_count": 100
        }
      ]
    },
    {
      "cell_type": "code",
      "source": [
        "id(b)"
      ],
      "metadata": {
        "id": "NmLPOH-Gs192",
        "outputId": "78af99d6-0893-4c37-c90c-e7d9be3e8323",
        "colab": {
          "base_uri": "https://localhost:8080/"
        }
      },
      "id": "NmLPOH-Gs192",
      "execution_count": 101,
      "outputs": [
        {
          "output_type": "execute_result",
          "data": {
            "text/plain": [
              "132250570581040"
            ]
          },
          "metadata": {},
          "execution_count": 101
        }
      ]
    }
  ],
  "metadata": {
    "kernelspec": {
      "display_name": "Python 3",
      "name": "python3"
    },
    "language_info": {
      "name": "python"
    },
    "required_libs": [],
    "colab": {
      "provenance": [],
      "gpuType": "T4",
      "include_colab_link": true
    },
    "accelerator": "GPU"
  },
  "nbformat": 4,
  "nbformat_minor": 5
}
