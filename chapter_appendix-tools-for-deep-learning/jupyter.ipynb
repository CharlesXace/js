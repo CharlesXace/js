{
  "cells": [
    {
      "cell_type": "code",
      "source": [
        "import torch\n",
        "print(torch.__version__)"
      ],
      "metadata": {
        "id": "7GZ3TfbEbLvf"
      },
      "id": "7GZ3TfbEbLvf",
      "execution_count": null,
      "outputs": []
    },
    {
      "cell_type": "code",
      "source": [
        "if torch.cuda.is_available():\n",
        "    print(\"GPU is available\")\n",
        "    print(f\"Using GPU: {torch.cuda.get_device_name(0)}\")\n",
        "else:\n",
        "    print(\"GPU not available.Using CPU\")"
      ],
      "metadata": {
        "id": "Zji1WR8QbPCK"
      },
      "id": "Zji1WR8QbPCK",
      "execution_count": null,
      "outputs": []
    },
    {
      "cell_type": "markdown",
      "source": [
        "# Creating a Tensor\n"
      ],
      "metadata": {
        "id": "BMxmJiZkcYcm"
      },
      "id": "BMxmJiZkcYcm"
    },
    {
      "cell_type": "code",
      "source": [
        "#using empty\n",
        "a=torch.empty(2,3)\n",
        "print(a)"
      ],
      "metadata": {
        "id": "GKcUQugucjx4"
      },
      "id": "GKcUQugucjx4",
      "execution_count": null,
      "outputs": []
    },
    {
      "cell_type": "code",
      "source": [
        "#check type\n",
        "type(a)"
      ],
      "metadata": {
        "id": "m7SwAJknc47o",
        "outputId": "f4efc771-cb5d-4064-d88e-8ea03875dea0",
        "colab": {
          "base_uri": "https://localhost:8080/"
        }
      },
      "id": "m7SwAJknc47o",
      "execution_count": 8,
      "outputs": [
        {
          "output_type": "execute_result",
          "data": {
            "text/plain": [
              "torch.Tensor"
            ]
          },
          "metadata": {},
          "execution_count": 8
        }
      ]
    },
    {
      "cell_type": "code",
      "source": [
        "#using zeros\n",
        "b=torch.zeros(2,3)\n",
        "print(b)"
      ],
      "metadata": {
        "id": "EdsHfvjMc8xX",
        "outputId": "288930c8-6bad-418f-f92f-e008946e10e8",
        "colab": {
          "base_uri": "https://localhost:8080/"
        }
      },
      "id": "EdsHfvjMc8xX",
      "execution_count": 9,
      "outputs": [
        {
          "output_type": "stream",
          "name": "stdout",
          "text": [
            "tensor([[0., 0., 0.],\n",
            "        [0., 0., 0.]])\n"
          ]
        }
      ]
    },
    {
      "cell_type": "code",
      "source": [
        "#using ones\n",
        "torch.ones(2,3)"
      ],
      "metadata": {
        "id": "Nsa8KGjVdXln",
        "outputId": "ded8f22d-74f5-42d8-d36a-6dd3e3b203fd",
        "colab": {
          "base_uri": "https://localhost:8080/"
        }
      },
      "id": "Nsa8KGjVdXln",
      "execution_count": 10,
      "outputs": [
        {
          "output_type": "execute_result",
          "data": {
            "text/plain": [
              "tensor([[1., 1., 1.],\n",
              "        [1., 1., 1.]])"
            ]
          },
          "metadata": {},
          "execution_count": 10
        }
      ]
    },
    {
      "cell_type": "code",
      "source": [
        "#using rand (random between 0 to 1)\n",
        "torch.rand(2,3)"
      ],
      "metadata": {
        "id": "J4b6g1cSdlgz",
        "outputId": "9b21ea91-777e-43e8-fef0-384cc1ee3f25",
        "colab": {
          "base_uri": "https://localhost:8080/"
        }
      },
      "id": "J4b6g1cSdlgz",
      "execution_count": 11,
      "outputs": [
        {
          "output_type": "execute_result",
          "data": {
            "text/plain": [
              "tensor([[0.1723, 0.2704, 0.5821],\n",
              "        [0.8173, 0.0259, 0.4445]])"
            ]
          },
          "metadata": {},
          "execution_count": 11
        }
      ]
    },
    {
      "cell_type": "code",
      "source": [
        "#using manual seed (to not change value at evry rand call)\n",
        "torch.manual_seed(100)\n",
        "torch.rand(2,3)"
      ],
      "metadata": {
        "id": "1R7yX9Vbdr3f",
        "outputId": "96dd096d-4c24-403b-fbdc-caa6a9ce070b",
        "colab": {
          "base_uri": "https://localhost:8080/"
        }
      },
      "id": "1R7yX9Vbdr3f",
      "execution_count": 12,
      "outputs": [
        {
          "output_type": "execute_result",
          "data": {
            "text/plain": [
              "tensor([[0.1117, 0.8158, 0.2626],\n",
              "        [0.4839, 0.6765, 0.7539]])"
            ]
          },
          "metadata": {},
          "execution_count": 12
        }
      ]
    },
    {
      "cell_type": "code",
      "source": [
        "#using tensor\n",
        "torch.tensor([[1,2,3],[4,5,6]])"
      ],
      "metadata": {
        "id": "PB8n1nFleDgV",
        "outputId": "cefae718-21b1-4606-a9bf-0ae132fe6720",
        "colab": {
          "base_uri": "https://localhost:8080/"
        }
      },
      "id": "PB8n1nFleDgV",
      "execution_count": 13,
      "outputs": [
        {
          "output_type": "execute_result",
          "data": {
            "text/plain": [
              "tensor([[1, 2, 3],\n",
              "        [4, 5, 6]])"
            ]
          },
          "metadata": {},
          "execution_count": 13
        }
      ]
    },
    {
      "cell_type": "code",
      "source": [
        "# other ways\n",
        "\n",
        "# arange (range)\n",
        "print(\"using arange ->\", torch.arange(0,10))\n",
        "print(\"using arange ->\", torch.arange(0,10,2))\n",
        "\n",
        "\n",
        "# using linspace (linear space from 0 to 10 with 10 elements)\n",
        "print(\"using linspace ->\", torch.linspace(0,10,10))\n",
        "\n",
        "# using eye (identity matrix)\n",
        "print(\"using eye ->\", torch.eye(5))\n",
        "\n",
        "# using full (3x3 matrix with all elements 5)\n",
        "print(\"using full ->\", torch.full((3, 3), 5))"
      ],
      "metadata": {
        "id": "ouHZcSyteQOy",
        "outputId": "1e881915-95cc-4280-daa9-9f1253a78a58",
        "colab": {
          "base_uri": "https://localhost:8080/"
        }
      },
      "id": "ouHZcSyteQOy",
      "execution_count": 14,
      "outputs": [
        {
          "output_type": "stream",
          "name": "stdout",
          "text": [
            "using arange -> tensor([0, 1, 2, 3, 4, 5, 6, 7, 8, 9])\n",
            "using arange -> tensor([0, 2, 4, 6, 8])\n",
            "using linspace -> tensor([ 0.0000,  1.1111,  2.2222,  3.3333,  4.4444,  5.5556,  6.6667,  7.7778,\n",
            "         8.8889, 10.0000])\n",
            "using eye -> tensor([[1., 0., 0., 0., 0.],\n",
            "        [0., 1., 0., 0., 0.],\n",
            "        [0., 0., 1., 0., 0.],\n",
            "        [0., 0., 0., 1., 0.],\n",
            "        [0., 0., 0., 0., 1.]])\n",
            "using full -> tensor([[5, 5, 5],\n",
            "        [5, 5, 5],\n",
            "        [5, 5, 5]])\n"
          ]
        }
      ]
    },
    {
      "cell_type": "code",
      "source": [],
      "metadata": {
        "id": "OxwBSBLcfBk9"
      },
      "id": "OxwBSBLcfBk9",
      "execution_count": null,
      "outputs": []
    }
  ],
  "metadata": {
    "kernelspec": {
      "display_name": "Python 3",
      "name": "python3"
    },
    "language_info": {
      "name": "python"
    },
    "required_libs": [],
    "colab": {
      "provenance": [],
      "gpuType": "T4"
    },
    "accelerator": "GPU"
  },
  "nbformat": 4,
  "nbformat_minor": 5
}